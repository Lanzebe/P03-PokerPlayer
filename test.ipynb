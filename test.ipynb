{
 "cells": [
  {
   "cell_type": "code",
   "execution_count": 1,
   "metadata": {},
   "outputs": [],
   "source": [
    "from PokerObj import *"
   ]
  },
  {
   "cell_type": "code",
   "execution_count": 2,
   "metadata": {},
   "outputs": [
    {
     "name": "stdout",
     "output_type": "stream",
     "text": [
      "['Call', 'Active']\n",
      "30\n",
      "found blind False\n",
      "['Call', 'Raise']\n",
      "130\n"
     ]
    }
   ],
   "source": [
    "PackCards = PackCards()\n",
    "\n",
    "Tom = AIPlayer()\n",
    "Jerry = AIPlayer()\n",
    "#Lanz = UserPlayer()\n",
    "\n",
    "Game = PokerGameLoop(PackCards,[Tom,Jerry])\n",
    "Game.StartGame()"
   ]
  }
 ],
 "metadata": {
  "interpreter": {
   "hash": "5769c1ee80cbd8e53d3db7831241b8ba867cfe138c2c354408fafcc75cd057f6"
  },
  "kernelspec": {
   "display_name": "Python 3.9.6 ('EnvTuks')",
   "language": "python",
   "name": "python3"
  },
  "language_info": {
   "codemirror_mode": {
    "name": "ipython",
    "version": 3
   },
   "file_extension": ".py",
   "mimetype": "text/x-python",
   "name": "python",
   "nbconvert_exporter": "python",
   "pygments_lexer": "ipython3",
   "version": "3.9.6"
  },
  "orig_nbformat": 4
 },
 "nbformat": 4,
 "nbformat_minor": 2
}
